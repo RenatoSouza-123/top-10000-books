{
 "cells": [
  {
   "cell_type": "markdown",
   "id": "f7b5383a",
   "metadata": {},
   "source": [
    "# Importação das bibliotecas"
   ]
  },
  {
   "cell_type": "code",
   "execution_count": 1,
   "id": "1d2c0b41",
   "metadata": {},
   "outputs": [],
   "source": [
    "import pandas as pd\n",
    "import numpy as np\n",
    "import matplotlib.pyplot as plt\n",
    "import plotly.express as px\n",
    "import seaborn as sns\n",
    "\n",
    "%matplotlib inline"
   ]
  },
  {
   "cell_type": "markdown",
   "id": "4c460793",
   "metadata": {},
   "source": [
    "# Importação da base de dados"
   ]
  },
  {
   "cell_type": "code",
   "execution_count": 46,
   "id": "994b5df9",
   "metadata": {},
   "outputs": [],
   "source": [
    "good_reads = pd.read_csv(\"goodreads_cleaned.csv\")"
   ]
  },
  {
   "cell_type": "markdown",
   "id": "1db60362",
   "metadata": {},
   "source": [
    "# Análises iniciais"
   ]
  },
  {
   "cell_type": "code",
   "execution_count": 47,
   "id": "90ef0ea0",
   "metadata": {},
   "outputs": [
    {
     "data": {
      "text/html": [
       "<div>\n",
       "<style scoped>\n",
       "    .dataframe tbody tr th:only-of-type {\n",
       "        vertical-align: middle;\n",
       "    }\n",
       "\n",
       "    .dataframe tbody tr th {\n",
       "        vertical-align: top;\n",
       "    }\n",
       "\n",
       "    .dataframe thead th {\n",
       "        text-align: right;\n",
       "    }\n",
       "</style>\n",
       "<table border=\"1\" class=\"dataframe\">\n",
       "  <thead>\n",
       "    <tr style=\"text-align: right;\">\n",
       "      <th></th>\n",
       "      <th>bookTitle</th>\n",
       "      <th>authorName</th>\n",
       "      <th>average_rating</th>\n",
       "      <th>num_ratings</th>\n",
       "    </tr>\n",
       "  </thead>\n",
       "  <tbody>\n",
       "    <tr>\n",
       "      <th>0</th>\n",
       "      <td>The Hunger Games (The Hunger Games, #1)</td>\n",
       "      <td>Suzanne Collins</td>\n",
       "      <td>4.34</td>\n",
       "      <td>8,693,386</td>\n",
       "    </tr>\n",
       "    <tr>\n",
       "      <th>1</th>\n",
       "      <td>Harry Potter and the Order of the Phoenix (Har...</td>\n",
       "      <td>J.K. Rowling</td>\n",
       "      <td>4.50</td>\n",
       "      <td>3,393,240</td>\n",
       "    </tr>\n",
       "    <tr>\n",
       "      <th>2</th>\n",
       "      <td>Pride and Prejudice</td>\n",
       "      <td>Jane Austen</td>\n",
       "      <td>4.29</td>\n",
       "      <td>4,280,986</td>\n",
       "    </tr>\n",
       "    <tr>\n",
       "      <th>3</th>\n",
       "      <td>To Kill a Mockingbird</td>\n",
       "      <td>Harper Lee</td>\n",
       "      <td>4.26</td>\n",
       "      <td>6,141,418</td>\n",
       "    </tr>\n",
       "    <tr>\n",
       "      <th>4</th>\n",
       "      <td>The Book Thief</td>\n",
       "      <td>Markus Zusak</td>\n",
       "      <td>4.39</td>\n",
       "      <td>2,565,715</td>\n",
       "    </tr>\n",
       "  </tbody>\n",
       "</table>\n",
       "</div>"
      ],
      "text/plain": [
       "                                           bookTitle       authorName  \\\n",
       "0            The Hunger Games (The Hunger Games, #1)  Suzanne Collins   \n",
       "1  Harry Potter and the Order of the Phoenix (Har...     J.K. Rowling   \n",
       "2                                Pride and Prejudice      Jane Austen   \n",
       "3                              To Kill a Mockingbird       Harper Lee   \n",
       "4                                     The Book Thief     Markus Zusak   \n",
       "\n",
       "   average_rating num_ratings  \n",
       "0            4.34   8,693,386  \n",
       "1            4.50   3,393,240  \n",
       "2            4.29   4,280,986  \n",
       "3            4.26   6,141,418  \n",
       "4            4.39   2,565,715  "
      ]
     },
     "execution_count": 47,
     "metadata": {},
     "output_type": "execute_result"
    }
   ],
   "source": [
    "good_reads.head()"
   ]
  },
  {
   "cell_type": "code",
   "execution_count": 48,
   "id": "e1459a0b",
   "metadata": {},
   "outputs": [
    {
     "data": {
      "text/plain": [
       "(10000, 4)"
      ]
     },
     "execution_count": 48,
     "metadata": {},
     "output_type": "execute_result"
    }
   ],
   "source": [
    "# A base possui 10 mil linhas e 4 colunas\n",
    "good_reads.shape"
   ]
  },
  {
   "cell_type": "code",
   "execution_count": 49,
   "id": "e4971ab8",
   "metadata": {},
   "outputs": [
    {
     "data": {
      "text/plain": [
       "bookTitle         0\n",
       "authorName        0\n",
       "average_rating    4\n",
       "num_ratings       4\n",
       "dtype: int64"
      ]
     },
     "execution_count": 49,
     "metadata": {},
     "output_type": "execute_result"
    }
   ],
   "source": [
    "#A base possui valores nulos?\n",
    "good_reads.isnull().sum()"
   ]
  },
  {
   "cell_type": "code",
   "execution_count": 50,
   "id": "c497ce4f",
   "metadata": {},
   "outputs": [],
   "source": [
    "#Preenchimento dos valores nulos com a média\n",
    "\n",
    "good_reads[\"average_rating\"].mean() #4.05\n",
    "\n",
    "good_reads[\"average_rating\"].fillna(4.05, inplace = True)"
   ]
  },
  {
   "cell_type": "code",
   "execution_count": 63,
   "id": "23a1df6a",
   "metadata": {},
   "outputs": [],
   "source": [
    "#Remoção dos valores nulos da coluna de número de avaliações\n",
    "good_reads.dropna(inplace = True)"
   ]
  },
  {
   "cell_type": "code",
   "execution_count": 64,
   "id": "a2822d4f",
   "metadata": {
    "scrolled": false
   },
   "outputs": [
    {
     "data": {
      "text/html": [
       "<div>\n",
       "<style scoped>\n",
       "    .dataframe tbody tr th:only-of-type {\n",
       "        vertical-align: middle;\n",
       "    }\n",
       "\n",
       "    .dataframe tbody tr th {\n",
       "        vertical-align: top;\n",
       "    }\n",
       "\n",
       "    .dataframe thead th {\n",
       "        text-align: right;\n",
       "    }\n",
       "</style>\n",
       "<table border=\"1\" class=\"dataframe\">\n",
       "  <thead>\n",
       "    <tr style=\"text-align: right;\">\n",
       "      <th></th>\n",
       "      <th>average_rating</th>\n",
       "    </tr>\n",
       "  </thead>\n",
       "  <tbody>\n",
       "    <tr>\n",
       "      <th>count</th>\n",
       "      <td>9996.000000</td>\n",
       "    </tr>\n",
       "    <tr>\n",
       "      <th>mean</th>\n",
       "      <td>4.052615</td>\n",
       "    </tr>\n",
       "    <tr>\n",
       "      <th>std</th>\n",
       "      <td>0.314170</td>\n",
       "    </tr>\n",
       "    <tr>\n",
       "      <th>min</th>\n",
       "      <td>0.000000</td>\n",
       "    </tr>\n",
       "    <tr>\n",
       "      <th>25%</th>\n",
       "      <td>3.890000</td>\n",
       "    </tr>\n",
       "    <tr>\n",
       "      <th>50%</th>\n",
       "      <td>4.070000</td>\n",
       "    </tr>\n",
       "    <tr>\n",
       "      <th>75%</th>\n",
       "      <td>4.240000</td>\n",
       "    </tr>\n",
       "    <tr>\n",
       "      <th>max</th>\n",
       "      <td>5.000000</td>\n",
       "    </tr>\n",
       "  </tbody>\n",
       "</table>\n",
       "</div>"
      ],
      "text/plain": [
       "       average_rating\n",
       "count     9996.000000\n",
       "mean         4.052615\n",
       "std          0.314170\n",
       "min          0.000000\n",
       "25%          3.890000\n",
       "50%          4.070000\n",
       "75%          4.240000\n",
       "max          5.000000"
      ]
     },
     "execution_count": 64,
     "metadata": {},
     "output_type": "execute_result"
    }
   ],
   "source": [
    "#Estatísticas\n",
    "good_reads.describe()"
   ]
  },
  {
   "cell_type": "code",
   "execution_count": 65,
   "id": "2d2b4153",
   "metadata": {
    "scrolled": true
   },
   "outputs": [
    {
     "name": "stdout",
     "output_type": "stream",
     "text": [
      "<class 'pandas.core.frame.DataFrame'>\n",
      "Int64Index: 9996 entries, 0 to 9999\n",
      "Data columns (total 4 columns):\n",
      " #   Column          Non-Null Count  Dtype  \n",
      "---  ------          --------------  -----  \n",
      " 0   bookTitle       9996 non-null   object \n",
      " 1   authorName      9996 non-null   object \n",
      " 2   average_rating  9996 non-null   float64\n",
      " 3   num_ratings     9996 non-null   object \n",
      "dtypes: float64(1), object(3)\n",
      "memory usage: 390.5+ KB\n"
     ]
    }
   ],
   "source": [
    "#Informações\n",
    "good_reads.info()\n",
    "\n",
    "#nota-se que a coluna com os números de avaliações está classificada como string. Será necessário realizar a conversão para int."
   ]
  },
  {
   "cell_type": "code",
   "execution_count": 66,
   "id": "2f35d8b0",
   "metadata": {},
   "outputs": [],
   "source": [
    "#Remoção da vírgula nos valores da coluna do número de avaliações\n",
    "\n",
    "good_reads[\"num_ratings\"] = good_reads[\"num_ratings\"].apply(lambda x: str(x).replace(\",\", \"\"))"
   ]
  },
  {
   "cell_type": "code",
   "execution_count": 77,
   "id": "e03f9c81",
   "metadata": {},
   "outputs": [],
   "source": [
    "good_reads[\"num_ratings\"] = good_reads[\"num_ratings\"].apply(lambda i: int(i))"
   ]
  },
  {
   "cell_type": "code",
   "execution_count": 78,
   "id": "6520e95e",
   "metadata": {},
   "outputs": [
    {
     "name": "stdout",
     "output_type": "stream",
     "text": [
      "<class 'pandas.core.frame.DataFrame'>\n",
      "Int64Index: 9996 entries, 0 to 9999\n",
      "Data columns (total 4 columns):\n",
      " #   Column          Non-Null Count  Dtype  \n",
      "---  ------          --------------  -----  \n",
      " 0   bookTitle       9996 non-null   object \n",
      " 1   authorName      9996 non-null   object \n",
      " 2   average_rating  9996 non-null   float64\n",
      " 3   num_ratings     9996 non-null   int64  \n",
      "dtypes: float64(1), int64(1), object(2)\n",
      "memory usage: 390.5+ KB\n"
     ]
    }
   ],
   "source": [
    "good_reads.info() #Conversão realizada"
   ]
  },
  {
   "cell_type": "code",
   "execution_count": 79,
   "id": "7da9e17c",
   "metadata": {},
   "outputs": [
    {
     "data": {
      "text/html": [
       "<div>\n",
       "<style scoped>\n",
       "    .dataframe tbody tr th:only-of-type {\n",
       "        vertical-align: middle;\n",
       "    }\n",
       "\n",
       "    .dataframe tbody tr th {\n",
       "        vertical-align: top;\n",
       "    }\n",
       "\n",
       "    .dataframe thead th {\n",
       "        text-align: right;\n",
       "    }\n",
       "</style>\n",
       "<table border=\"1\" class=\"dataframe\">\n",
       "  <thead>\n",
       "    <tr style=\"text-align: right;\">\n",
       "      <th></th>\n",
       "      <th>average_rating</th>\n",
       "      <th>num_ratings</th>\n",
       "    </tr>\n",
       "  </thead>\n",
       "  <tbody>\n",
       "    <tr>\n",
       "      <th>count</th>\n",
       "      <td>9996.000000</td>\n",
       "      <td>9.996000e+03</td>\n",
       "    </tr>\n",
       "    <tr>\n",
       "      <th>mean</th>\n",
       "      <td>4.052615</td>\n",
       "      <td>1.273443e+05</td>\n",
       "    </tr>\n",
       "    <tr>\n",
       "      <th>std</th>\n",
       "      <td>0.314170</td>\n",
       "      <td>3.791393e+05</td>\n",
       "    </tr>\n",
       "    <tr>\n",
       "      <th>min</th>\n",
       "      <td>0.000000</td>\n",
       "      <td>0.000000e+00</td>\n",
       "    </tr>\n",
       "    <tr>\n",
       "      <th>25%</th>\n",
       "      <td>3.890000</td>\n",
       "      <td>1.248775e+04</td>\n",
       "    </tr>\n",
       "    <tr>\n",
       "      <th>50%</th>\n",
       "      <td>4.070000</td>\n",
       "      <td>3.642100e+04</td>\n",
       "    </tr>\n",
       "    <tr>\n",
       "      <th>75%</th>\n",
       "      <td>4.240000</td>\n",
       "      <td>9.352175e+04</td>\n",
       "    </tr>\n",
       "    <tr>\n",
       "      <th>max</th>\n",
       "      <td>5.000000</td>\n",
       "      <td>1.008507e+07</td>\n",
       "    </tr>\n",
       "  </tbody>\n",
       "</table>\n",
       "</div>"
      ],
      "text/plain": [
       "       average_rating   num_ratings\n",
       "count     9996.000000  9.996000e+03\n",
       "mean         4.052615  1.273443e+05\n",
       "std          0.314170  3.791393e+05\n",
       "min          0.000000  0.000000e+00\n",
       "25%          3.890000  1.248775e+04\n",
       "50%          4.070000  3.642100e+04\n",
       "75%          4.240000  9.352175e+04\n",
       "max          5.000000  1.008507e+07"
      ]
     },
     "execution_count": 79,
     "metadata": {},
     "output_type": "execute_result"
    }
   ],
   "source": [
    "#Estatísticas\n",
    "good_reads.describe()"
   ]
  },
  {
   "cell_type": "code",
   "execution_count": 103,
   "id": "de28aad2",
   "metadata": {},
   "outputs": [
    {
     "data": {
      "text/html": [
       "<div>\n",
       "<style scoped>\n",
       "    .dataframe tbody tr th:only-of-type {\n",
       "        vertical-align: middle;\n",
       "    }\n",
       "\n",
       "    .dataframe tbody tr th {\n",
       "        vertical-align: top;\n",
       "    }\n",
       "\n",
       "    .dataframe thead th {\n",
       "        text-align: right;\n",
       "    }\n",
       "</style>\n",
       "<table border=\"1\" class=\"dataframe\">\n",
       "  <thead>\n",
       "    <tr style=\"text-align: right;\">\n",
       "      <th></th>\n",
       "      <th>bookTitle</th>\n",
       "      <th>authorName</th>\n",
       "      <th>average_rating</th>\n",
       "      <th>num_ratings</th>\n",
       "    </tr>\n",
       "  </thead>\n",
       "  <tbody>\n",
       "    <tr>\n",
       "      <th>47</th>\n",
       "      <td>1984</td>\n",
       "      <td>George Orwell</td>\n",
       "      <td>4.19</td>\n",
       "      <td>4617941</td>\n",
       "    </tr>\n",
       "    <tr>\n",
       "      <th>2745</th>\n",
       "      <td>1984</td>\n",
       "      <td>George Orwell</td>\n",
       "      <td>4.19</td>\n",
       "      <td>4617961</td>\n",
       "    </tr>\n",
       "    <tr>\n",
       "      <th>7655</th>\n",
       "      <td>1984</td>\n",
       "      <td>George Orwell</td>\n",
       "      <td>4.19</td>\n",
       "      <td>4617961</td>\n",
       "    </tr>\n",
       "    <tr>\n",
       "      <th>1292</th>\n",
       "      <td>1984</td>\n",
       "      <td>George Orwell</td>\n",
       "      <td>4.19</td>\n",
       "      <td>4617941</td>\n",
       "    </tr>\n",
       "    <tr>\n",
       "      <th>2456</th>\n",
       "      <td>A Castle of Doomsday</td>\n",
       "      <td>Michael G. Kramer</td>\n",
       "      <td>4.27</td>\n",
       "      <td>3082</td>\n",
       "    </tr>\n",
       "    <tr>\n",
       "      <th>...</th>\n",
       "      <td>...</td>\n",
       "      <td>...</td>\n",
       "      <td>...</td>\n",
       "      <td>...</td>\n",
       "    </tr>\n",
       "    <tr>\n",
       "      <th>3</th>\n",
       "      <td>To Kill a Mockingbird</td>\n",
       "      <td>Harper Lee</td>\n",
       "      <td>4.26</td>\n",
       "      <td>6141418</td>\n",
       "    </tr>\n",
       "    <tr>\n",
       "      <th>2535</th>\n",
       "      <td>Triumph: Life on the Other Side of Trials, Tra...</td>\n",
       "      <td>Gregory S. Works</td>\n",
       "      <td>4.26</td>\n",
       "      <td>7208</td>\n",
       "    </tr>\n",
       "    <tr>\n",
       "      <th>2644</th>\n",
       "      <td>Triumph: Life on the Other Side of Trials, Tra...</td>\n",
       "      <td>Gregory S. Works</td>\n",
       "      <td>4.26</td>\n",
       "      <td>7208</td>\n",
       "    </tr>\n",
       "    <tr>\n",
       "      <th>6548</th>\n",
       "      <td>Verity</td>\n",
       "      <td>Colleen Hoover</td>\n",
       "      <td>4.32</td>\n",
       "      <td>2702625</td>\n",
       "    </tr>\n",
       "    <tr>\n",
       "      <th>3309</th>\n",
       "      <td>Verity</td>\n",
       "      <td>Colleen Hoover</td>\n",
       "      <td>4.32</td>\n",
       "      <td>2702625</td>\n",
       "    </tr>\n",
       "  </tbody>\n",
       "</table>\n",
       "<p>164 rows × 4 columns</p>\n",
       "</div>"
      ],
      "text/plain": [
       "                                              bookTitle         authorName  \\\n",
       "47                                                 1984      George Orwell   \n",
       "2745                                               1984      George Orwell   \n",
       "7655                                               1984      George Orwell   \n",
       "1292                                               1984      George Orwell   \n",
       "2456                               A Castle of Doomsday  Michael G. Kramer   \n",
       "...                                                 ...                ...   \n",
       "3                                 To Kill a Mockingbird         Harper Lee   \n",
       "2535  Triumph: Life on the Other Side of Trials, Tra...   Gregory S. Works   \n",
       "2644  Triumph: Life on the Other Side of Trials, Tra...   Gregory S. Works   \n",
       "6548                                             Verity     Colleen Hoover   \n",
       "3309                                             Verity     Colleen Hoover   \n",
       "\n",
       "      average_rating  num_ratings  \n",
       "47              4.19      4617941  \n",
       "2745            4.19      4617961  \n",
       "7655            4.19      4617961  \n",
       "1292            4.19      4617941  \n",
       "2456            4.27         3082  \n",
       "...              ...          ...  \n",
       "3               4.26      6141418  \n",
       "2535            4.26         7208  \n",
       "2644            4.26         7208  \n",
       "6548            4.32      2702625  \n",
       "3309            4.32      2702625  \n",
       "\n",
       "[164 rows x 4 columns]"
      ]
     },
     "execution_count": 103,
     "metadata": {},
     "output_type": "execute_result"
    }
   ],
   "source": [
    "#A base possui valores duplicados?\n",
    "\n",
    "#Lista com todos os valores duplicados\n",
    "good_reads[good_reads.duplicated(keep =  False)].sort_values(\"bookTitle\")"
   ]
  },
  {
   "cell_type": "code",
   "execution_count": 116,
   "id": "2422698b",
   "metadata": {},
   "outputs": [],
   "source": [
    "#Remoção dos valores duplicados\n",
    "good_reads.drop_duplicates(subset = \"bookTitle\", keep = \"first\", inplace = True)"
   ]
  },
  {
   "cell_type": "markdown",
   "id": "f54da3fc",
   "metadata": {},
   "source": [
    "# Quais são os 10 livros mais bem avaliados?"
   ]
  },
  {
   "cell_type": "code",
   "execution_count": 118,
   "id": "7bb9ebad",
   "metadata": {
    "scrolled": true
   },
   "outputs": [
    {
     "data": {
      "text/html": [
       "<div>\n",
       "<style scoped>\n",
       "    .dataframe tbody tr th:only-of-type {\n",
       "        vertical-align: middle;\n",
       "    }\n",
       "\n",
       "    .dataframe tbody tr th {\n",
       "        vertical-align: top;\n",
       "    }\n",
       "\n",
       "    .dataframe thead th {\n",
       "        text-align: right;\n",
       "    }\n",
       "</style>\n",
       "<table border=\"1\" class=\"dataframe\">\n",
       "  <thead>\n",
       "    <tr style=\"text-align: right;\">\n",
       "      <th></th>\n",
       "      <th>bookTitle</th>\n",
       "      <th>authorName</th>\n",
       "      <th>average_rating</th>\n",
       "      <th>num_ratings</th>\n",
       "    </tr>\n",
       "  </thead>\n",
       "  <tbody>\n",
       "    <tr>\n",
       "      <th>6280</th>\n",
       "      <td>Obscured Darkness (Family Secrets #2)</td>\n",
       "      <td>Rebekah McClew</td>\n",
       "      <td>5.00</td>\n",
       "      <td>9</td>\n",
       "    </tr>\n",
       "    <tr>\n",
       "      <th>5605</th>\n",
       "      <td>Gris Ange 2014</td>\n",
       "      <td>Lucio Agustine Rosenkreutz Crăciunescu</td>\n",
       "      <td>5.00</td>\n",
       "      <td>9</td>\n",
       "    </tr>\n",
       "    <tr>\n",
       "      <th>9761</th>\n",
       "      <td>Anshuman krit Saral Vastu Gyan</td>\n",
       "      <td>Anshuman Srivastav</td>\n",
       "      <td>5.00</td>\n",
       "      <td>9</td>\n",
       "    </tr>\n",
       "    <tr>\n",
       "      <th>5640</th>\n",
       "      <td>Das geheimnis der blumen</td>\n",
       "      <td>Mykhaella Caponi</td>\n",
       "      <td>5.00</td>\n",
       "      <td>8</td>\n",
       "    </tr>\n",
       "    <tr>\n",
       "      <th>7446</th>\n",
       "      <td>Elliptical door (A multifaceted overview) (US)...</td>\n",
       "      <td>Lucio Agustine Rosenkreutz Crăciunescu</td>\n",
       "      <td>5.00</td>\n",
       "      <td>12</td>\n",
       "    </tr>\n",
       "    <tr>\n",
       "      <th>7395</th>\n",
       "      <td>Rosto Inacabado (Pequenos segredos alquímicos)...</td>\n",
       "      <td>Lucio Agustine Rosenkreutz Crăciunescu</td>\n",
       "      <td>5.00</td>\n",
       "      <td>8</td>\n",
       "    </tr>\n",
       "    <tr>\n",
       "      <th>9919</th>\n",
       "      <td>Patience's Love</td>\n",
       "      <td>Ronda Paige</td>\n",
       "      <td>5.00</td>\n",
       "      <td>10</td>\n",
       "    </tr>\n",
       "    <tr>\n",
       "      <th>6435</th>\n",
       "      <td>Armée des ombres</td>\n",
       "      <td>Lucio Agustine Rosenkreutz Crăciunescu</td>\n",
       "      <td>5.00</td>\n",
       "      <td>12</td>\n",
       "    </tr>\n",
       "    <tr>\n",
       "      <th>5624</th>\n",
       "      <td>Coeur pourri de laine</td>\n",
       "      <td>Lucio Agustine Rosenkreutz Crăciunescu</td>\n",
       "      <td>5.00</td>\n",
       "      <td>9</td>\n",
       "    </tr>\n",
       "    <tr>\n",
       "      <th>4247</th>\n",
       "      <td>A Day in the Life of Cowboy Mike and Winston</td>\n",
       "      <td>Michael Eastwood</td>\n",
       "      <td>4.94</td>\n",
       "      <td>111</td>\n",
       "    </tr>\n",
       "  </tbody>\n",
       "</table>\n",
       "</div>"
      ],
      "text/plain": [
       "                                              bookTitle  \\\n",
       "6280              Obscured Darkness (Family Secrets #2)   \n",
       "5605                                     Gris Ange 2014   \n",
       "9761                     Anshuman krit Saral Vastu Gyan   \n",
       "5640                           Das geheimnis der blumen   \n",
       "7446  Elliptical door (A multifaceted overview) (US)...   \n",
       "7395  Rosto Inacabado (Pequenos segredos alquímicos)...   \n",
       "9919                                    Patience's Love   \n",
       "6435                                   Armée des ombres   \n",
       "5624                              Coeur pourri de laine   \n",
       "4247       A Day in the Life of Cowboy Mike and Winston   \n",
       "\n",
       "                                  authorName  average_rating  num_ratings  \n",
       "6280                          Rebekah McClew            5.00            9  \n",
       "5605  Lucio Agustine Rosenkreutz Crăciunescu            5.00            9  \n",
       "9761                      Anshuman Srivastav            5.00            9  \n",
       "5640                        Mykhaella Caponi            5.00            8  \n",
       "7446  Lucio Agustine Rosenkreutz Crăciunescu            5.00           12  \n",
       "7395  Lucio Agustine Rosenkreutz Crăciunescu            5.00            8  \n",
       "9919                             Ronda Paige            5.00           10  \n",
       "6435  Lucio Agustine Rosenkreutz Crăciunescu            5.00           12  \n",
       "5624  Lucio Agustine Rosenkreutz Crăciunescu            5.00            9  \n",
       "4247                        Michael Eastwood            4.94          111  "
      ]
     },
     "execution_count": 118,
     "metadata": {},
     "output_type": "execute_result"
    }
   ],
   "source": [
    "good_reads.sort_values(\"average_rating\", ascending = False).head(10)"
   ]
  },
  {
   "cell_type": "code",
   "execution_count": 119,
   "id": "c3d6997a",
   "metadata": {},
   "outputs": [
    {
     "data": {
      "text/plain": [
       "9"
      ]
     },
     "execution_count": 119,
     "metadata": {},
     "output_type": "execute_result"
    }
   ],
   "source": [
    "len(good_reads[good_reads[\"average_rating\"] == 5])"
   ]
  },
  {
   "cell_type": "markdown",
   "id": "d681a07a",
   "metadata": {},
   "source": [
    "É interessante notar que apenas 9 livros receberam a nota máxima. No entanto, o número de avaliações que esses mesmos livros receberam foi muito baixo, o que inviabiliza a confiabilidade nesses resultados.\n",
    "\n",
    "---\n",
    "5 dos 9 livros que receberam a nota máxima pertencem ao autor Lucio Agustine Rosenkreutz Crăciunescu."
   ]
  },
  {
   "cell_type": "markdown",
   "id": "191cd4b7",
   "metadata": {},
   "source": [
    "# Quais são os 10 livros com as maiores quantidades de avaliações?"
   ]
  },
  {
   "cell_type": "code",
   "execution_count": 120,
   "id": "4c979d06",
   "metadata": {},
   "outputs": [
    {
     "data": {
      "text/html": [
       "<div>\n",
       "<style scoped>\n",
       "    .dataframe tbody tr th:only-of-type {\n",
       "        vertical-align: middle;\n",
       "    }\n",
       "\n",
       "    .dataframe tbody tr th {\n",
       "        vertical-align: top;\n",
       "    }\n",
       "\n",
       "    .dataframe thead th {\n",
       "        text-align: right;\n",
       "    }\n",
       "</style>\n",
       "<table border=\"1\" class=\"dataframe\">\n",
       "  <thead>\n",
       "    <tr style=\"text-align: right;\">\n",
       "      <th></th>\n",
       "      <th>bookTitle</th>\n",
       "      <th>authorName</th>\n",
       "      <th>average_rating</th>\n",
       "      <th>num_ratings</th>\n",
       "    </tr>\n",
       "  </thead>\n",
       "  <tbody>\n",
       "    <tr>\n",
       "      <th>53</th>\n",
       "      <td>Harry Potter and the Sorcerer’s Stone (Harry P...</td>\n",
       "      <td>J.K. Rowling</td>\n",
       "      <td>4.47</td>\n",
       "      <td>10085072</td>\n",
       "    </tr>\n",
       "    <tr>\n",
       "      <th>0</th>\n",
       "      <td>The Hunger Games (The Hunger Games, #1)</td>\n",
       "      <td>Suzanne Collins</td>\n",
       "      <td>4.34</td>\n",
       "      <td>8693386</td>\n",
       "    </tr>\n",
       "    <tr>\n",
       "      <th>5</th>\n",
       "      <td>Twilight (The Twilight Saga, #1)</td>\n",
       "      <td>Stephenie Meyer</td>\n",
       "      <td>3.65</td>\n",
       "      <td>6594950</td>\n",
       "    </tr>\n",
       "    <tr>\n",
       "      <th>3</th>\n",
       "      <td>To Kill a Mockingbird</td>\n",
       "      <td>Harper Lee</td>\n",
       "      <td>4.26</td>\n",
       "      <td>6141418</td>\n",
       "    </tr>\n",
       "    <tr>\n",
       "      <th>17</th>\n",
       "      <td>The Great Gatsby</td>\n",
       "      <td>F. Scott Fitzgerald</td>\n",
       "      <td>3.93</td>\n",
       "      <td>5255511</td>\n",
       "    </tr>\n",
       "    <tr>\n",
       "      <th>9</th>\n",
       "      <td>The Fault in Our Stars</td>\n",
       "      <td>John Green</td>\n",
       "      <td>4.14</td>\n",
       "      <td>5152789</td>\n",
       "    </tr>\n",
       "    <tr>\n",
       "      <th>47</th>\n",
       "      <td>1984</td>\n",
       "      <td>George Orwell</td>\n",
       "      <td>4.19</td>\n",
       "      <td>4617941</td>\n",
       "    </tr>\n",
       "    <tr>\n",
       "      <th>2</th>\n",
       "      <td>Pride and Prejudice</td>\n",
       "      <td>Jane Austen</td>\n",
       "      <td>4.29</td>\n",
       "      <td>4280986</td>\n",
       "    </tr>\n",
       "    <tr>\n",
       "      <th>65</th>\n",
       "      <td>Harry Potter and the Prisoner of Azkaban (Harr...</td>\n",
       "      <td>J.K. Rowling</td>\n",
       "      <td>4.58</td>\n",
       "      <td>4201102</td>\n",
       "    </tr>\n",
       "    <tr>\n",
       "      <th>116</th>\n",
       "      <td>The Hobbit (The Lord of the Rings, #0)</td>\n",
       "      <td>J.R.R. Tolkien</td>\n",
       "      <td>4.29</td>\n",
       "      <td>3987562</td>\n",
       "    </tr>\n",
       "  </tbody>\n",
       "</table>\n",
       "</div>"
      ],
      "text/plain": [
       "                                             bookTitle           authorName  \\\n",
       "53   Harry Potter and the Sorcerer’s Stone (Harry P...         J.K. Rowling   \n",
       "0              The Hunger Games (The Hunger Games, #1)      Suzanne Collins   \n",
       "5                     Twilight (The Twilight Saga, #1)      Stephenie Meyer   \n",
       "3                                To Kill a Mockingbird           Harper Lee   \n",
       "17                                    The Great Gatsby  F. Scott Fitzgerald   \n",
       "9                               The Fault in Our Stars           John Green   \n",
       "47                                                1984        George Orwell   \n",
       "2                                  Pride and Prejudice          Jane Austen   \n",
       "65   Harry Potter and the Prisoner of Azkaban (Harr...         J.K. Rowling   \n",
       "116             The Hobbit (The Lord of the Rings, #0)       J.R.R. Tolkien   \n",
       "\n",
       "     average_rating  num_ratings  \n",
       "53             4.47     10085072  \n",
       "0              4.34      8693386  \n",
       "5              3.65      6594950  \n",
       "3              4.26      6141418  \n",
       "17             3.93      5255511  \n",
       "9              4.14      5152789  \n",
       "47             4.19      4617941  \n",
       "2              4.29      4280986  \n",
       "65             4.58      4201102  \n",
       "116            4.29      3987562  "
      ]
     },
     "execution_count": 120,
     "metadata": {},
     "output_type": "execute_result"
    }
   ],
   "source": [
    "good_reads.sort_values(\"num_ratings\", ascending = False).head(10)"
   ]
  },
  {
   "cell_type": "markdown",
   "id": "9e952883",
   "metadata": {},
   "source": [
    "Dos 10 livros com as maiores quantidades de avaliações, dois ficaram com uma média abaixo de 4: O Grande Gatsby e o primeiro volume da saga Crepúsculo.\n",
    "\n",
    "---\n",
    "J.K. Rowling foi a única autora que apareceu mais de uma vez nesta lista."
   ]
  },
  {
   "cell_type": "markdown",
   "id": "45937828",
   "metadata": {},
   "source": [
    "# Top 10 autores com as maiores quantidades de avaliações"
   ]
  },
  {
   "cell_type": "code",
   "execution_count": 133,
   "id": "1be10a91",
   "metadata": {},
   "outputs": [
    {
     "data": {
      "text/html": [
       "<div>\n",
       "<style scoped>\n",
       "    .dataframe tbody tr th:only-of-type {\n",
       "        vertical-align: middle;\n",
       "    }\n",
       "\n",
       "    .dataframe tbody tr th {\n",
       "        vertical-align: top;\n",
       "    }\n",
       "\n",
       "    .dataframe thead th {\n",
       "        text-align: right;\n",
       "    }\n",
       "</style>\n",
       "<table border=\"1\" class=\"dataframe\">\n",
       "  <thead>\n",
       "    <tr style=\"text-align: right;\">\n",
       "      <th></th>\n",
       "      <th>num_ratings</th>\n",
       "    </tr>\n",
       "    <tr>\n",
       "      <th>authorName</th>\n",
       "      <th></th>\n",
       "    </tr>\n",
       "  </thead>\n",
       "  <tbody>\n",
       "    <tr>\n",
       "      <th>J.K. Rowling</th>\n",
       "      <td>36218552</td>\n",
       "    </tr>\n",
       "    <tr>\n",
       "      <th>Sarah J. Maas</th>\n",
       "      <td>18218823</td>\n",
       "    </tr>\n",
       "    <tr>\n",
       "      <th>Stephen King</th>\n",
       "      <td>17330255</td>\n",
       "    </tr>\n",
       "    <tr>\n",
       "      <th>Colleen Hoover</th>\n",
       "      <td>17320798</td>\n",
       "    </tr>\n",
       "    <tr>\n",
       "      <th>Suzanne Collins</th>\n",
       "      <td>16892622</td>\n",
       "    </tr>\n",
       "    <tr>\n",
       "      <th>Stephenie Meyer</th>\n",
       "      <td>14050669</td>\n",
       "    </tr>\n",
       "    <tr>\n",
       "      <th>Rick Riordan</th>\n",
       "      <td>12635950</td>\n",
       "    </tr>\n",
       "    <tr>\n",
       "      <th>J.R.R. Tolkien</th>\n",
       "      <td>10287899</td>\n",
       "    </tr>\n",
       "    <tr>\n",
       "      <th>John Green</th>\n",
       "      <td>9887287</td>\n",
       "    </tr>\n",
       "    <tr>\n",
       "      <th>Taylor Jenkins Reid</th>\n",
       "      <td>9602065</td>\n",
       "    </tr>\n",
       "  </tbody>\n",
       "</table>\n",
       "</div>"
      ],
      "text/plain": [
       "                     num_ratings\n",
       "authorName                      \n",
       "J.K. Rowling            36218552\n",
       "Sarah J. Maas           18218823\n",
       "Stephen King            17330255\n",
       "Colleen Hoover          17320798\n",
       "Suzanne Collins         16892622\n",
       "Stephenie Meyer         14050669\n",
       "Rick Riordan            12635950\n",
       "J.R.R. Tolkien          10287899\n",
       "John Green               9887287\n",
       "Taylor Jenkins Reid      9602065"
      ]
     },
     "execution_count": 133,
     "metadata": {},
     "output_type": "execute_result"
    }
   ],
   "source": [
    "good_reads[[\"authorName\", \"num_ratings\"]].groupby(\"authorName\").sum().sort_values(\"num_ratings\", ascending = False).head(10)"
   ]
  },
  {
   "cell_type": "code",
   "execution_count": null,
   "id": "21f9cf58",
   "metadata": {},
   "outputs": [],
   "source": []
  }
 ],
 "metadata": {
  "kernelspec": {
   "display_name": "Python 3 (ipykernel)",
   "language": "python",
   "name": "python3"
  },
  "language_info": {
   "codemirror_mode": {
    "name": "ipython",
    "version": 3
   },
   "file_extension": ".py",
   "mimetype": "text/x-python",
   "name": "python",
   "nbconvert_exporter": "python",
   "pygments_lexer": "ipython3",
   "version": "3.9.13"
  }
 },
 "nbformat": 4,
 "nbformat_minor": 5
}
